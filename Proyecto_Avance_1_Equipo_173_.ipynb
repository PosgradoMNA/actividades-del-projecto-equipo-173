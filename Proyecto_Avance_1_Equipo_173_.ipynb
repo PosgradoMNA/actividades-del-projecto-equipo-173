{
  "nbformat": 4,
  "nbformat_minor": 0,
  "metadata": {
    "colab": {
      "provenance": [],
      "collapsed_sections": [],
      "authorship_tag": "ABX9TyP1OTuLyPU8OV8rodNRG0IV",
      "include_colab_link": true
    },
    "kernelspec": {
      "name": "python3",
      "display_name": "Python 3"
    },
    "language_info": {
      "name": "python"
    }
  },
  "cells": [
    {
      "cell_type": "markdown",
      "metadata": {
        "id": "view-in-github",
        "colab_type": "text"
      },
      "source": [
        "<a href=\"https://colab.research.google.com/github/PosgradoMNA/actividades-del-projecto-equipo-173/blob/main/Proyecto_Avance_1_Equipo_173_.ipynb\" target=\"_parent\"><img src=\"https://colab.research.google.com/assets/colab-badge.svg\" alt=\"Open In Colab\"/></a>"
      ]
    },
    {
      "cell_type": "markdown",
      "source": [
        "Karla Daniela Valenzuela Gomez A00819192\n",
        "\n",
        "Arturo Eduardo Loperena Gutierrez A01793641\n",
        "\n",
        "Equipo 173\n",
        "\n",
        "**Avance 1** \n",
        "\n",
        "1.   El nombre que caracteriza el conjunto de datos.\n",
        "> Población mundial\n",
        "2.   La organización que lo generó.\n",
        "> World Population Review\n",
        "3. Incluya un enlace de Internet donde se puedan descargar en línea\n",
        "> https://population.un.org/wpp/Download/Files/1_Indicators%20(Standard)/EXCEL_FILES/1_General/WPP2022_GEN_F01_DEMOGRAPHIC_INDICATORS_COMPACT_REV1.xlsx\n",
        "\n",
        "4. Describe el conjunto de datos. ¿Qué datos contiene?\n",
        "> En este conjunto de datos, se puede encontrarde la informacion desde 1970 hasta la actualidad de la población para cada país/territorio del mundo según diferentes parámetros, como el tamaño del área del país/territorio, el nombre del continente, el nombre de la capital, la densidad, la tasa de crecimiento de la población, la clasificación basada en la población, Porcentaje de población mundial, etc.\n",
        "\n",
        "\n",
        "5. ¿Cuáles son algunas de las preguntas de investigación que podría responder con estos datos? Enumere al menos OCHO (no responda las preguntas).\n",
        ">*   ¿Cual es el pais con mayor poblacion?\n",
        ">*   ¿Cual es la tasa de crecimiento de la población mundial por año?\n",
        ">*   ¿Cuales son los paises menos poblados?\n",
        ">*   ¿Cual es el continente con mayor poblacion?\n",
        ">*   Pais mas poblado y menos poblado por continente\n",
        ">*   ¿Cual es la distribución de la densidad de población?\n",
        ">*   ¿Cual es el país más densamente poblado?\n",
        ">*   ¿Cual es la tasa de crecimiento de la población promedio por continente?\n",
        "6. ¿Qué actor (empresa, sector de la sociedad, organismo descentralizado, gobierno, etc.) estaría interesado en las preguntas mencionadas que identificó?\n",
        "> La Poblacion Mundial afecta a todos los ambitos tanto sociales, economicos y ambientale, asi que este tipo de informacion puede interesarle a cualquiera en estas areas.\\\n",
        "\n",
        "Referencias \n",
        "2022 World Population by Country. (n.d.). Retrieved September 26, 2022, from https://worldpopulationreview.com/\n",
        "\n",
        "\n",
        "\n",
        "\n",
        "\n"
      ],
      "metadata": {
        "id": "90lWak0hd-f0"
      }
    }
  ]
}
